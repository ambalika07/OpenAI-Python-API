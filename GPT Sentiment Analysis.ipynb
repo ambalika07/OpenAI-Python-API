{
 "cells": [
  {
   "cell_type": "code",
   "execution_count": 1,
   "id": "101d34de",
   "metadata": {},
   "outputs": [],
   "source": [
    "import openai"
   ]
  },
  {
   "cell_type": "code",
   "execution_count": 2,
   "id": "4f8c9b36",
   "metadata": {},
   "outputs": [
    {
     "name": "stdout",
     "output_type": "stream",
     "text": [
      "Collecting praw\n",
      "  Downloading praw-7.8.1-py3-none-any.whl (189 kB)\n",
      "     -------------------------------------- 189.3/189.3 kB 3.8 MB/s eta 0:00:00\n",
      "Collecting update_checker>=0.18\n",
      "  Downloading update_checker-0.18.0-py3-none-any.whl (7.0 kB)\n",
      "Collecting prawcore<3,>=2.4\n",
      "  Downloading prawcore-2.4.0-py3-none-any.whl (17 kB)\n",
      "Requirement already satisfied: websocket-client>=0.54.0 in c:\\users\\ambal\\anaconda3\\lib\\site-packages (from praw) (0.58.0)\n",
      "Requirement already satisfied: requests<3.0,>=2.6.0 in c:\\users\\ambal\\anaconda3\\lib\\site-packages (from prawcore<3,>=2.4->praw) (2.28.1)\n",
      "Requirement already satisfied: six in c:\\users\\ambal\\anaconda3\\lib\\site-packages (from websocket-client>=0.54.0->praw) (1.16.0)\n",
      "Requirement already satisfied: charset-normalizer<3,>=2 in c:\\users\\ambal\\anaconda3\\lib\\site-packages (from requests<3.0,>=2.6.0->prawcore<3,>=2.4->praw) (2.0.4)\n",
      "Requirement already satisfied: certifi>=2017.4.17 in c:\\users\\ambal\\anaconda3\\lib\\site-packages (from requests<3.0,>=2.6.0->prawcore<3,>=2.4->praw) (2022.9.14)\n",
      "Requirement already satisfied: urllib3<1.27,>=1.21.1 in c:\\users\\ambal\\anaconda3\\lib\\site-packages (from requests<3.0,>=2.6.0->prawcore<3,>=2.4->praw) (1.26.11)\n",
      "Requirement already satisfied: idna<4,>=2.5 in c:\\users\\ambal\\anaconda3\\lib\\site-packages (from requests<3.0,>=2.6.0->prawcore<3,>=2.4->praw) (3.3)\n",
      "Installing collected packages: update_checker, prawcore, praw\n",
      "Successfully installed praw-7.8.1 prawcore-2.4.0 update_checker-0.18.0\n"
     ]
    }
   ],
   "source": [
    "#!pip install praw"
   ]
  },
  {
   "cell_type": "code",
   "execution_count": 3,
   "id": "80032b3c",
   "metadata": {},
   "outputs": [],
   "source": [
    "import praw"
   ]
  },
  {
   "cell_type": "code",
   "execution_count": 5,
   "id": "cfc63404",
   "metadata": {},
   "outputs": [],
   "source": [
    "# This can be created when routed to https://www.reddit.com/prefs/apps and creating a redirect uri http://www.example.com/unused/redirect/uri\n",
    "client_id = ''\n",
    "client_secret = ''"
   ]
  },
  {
   "cell_type": "code",
   "execution_count": 27,
   "id": "5ad61bc6",
   "metadata": {},
   "outputs": [],
   "source": [
    "# Hide this code block\n",
    "#openai.api_key = 'Add your key here!'"
   ]
  },
  {
   "cell_type": "code",
   "execution_count": 6,
   "id": "235cd321",
   "metadata": {},
   "outputs": [],
   "source": [
    "reddit = praw.Reddit(client_id=client_id,\n",
    "                    client_secret=client_secret,\n",
    "                    user_agent = \"sentiment analysis test\"\n",
    "                    )"
   ]
  },
  {
   "cell_type": "code",
   "execution_count": 12,
   "id": "b971b5db",
   "metadata": {},
   "outputs": [],
   "source": [
    "subreddit_stocks = reddit.subreddit(\"stocks\")"
   ]
  },
  {
   "cell_type": "code",
   "execution_count": 15,
   "id": "36ec93bd",
   "metadata": {},
   "outputs": [
    {
     "data": {
      "text/plain": [
       "655"
      ]
     },
     "execution_count": 15,
     "metadata": {},
     "output_type": "execute_result"
    }
   ],
   "source": [
    "subreddit_stocks.accounts_active"
   ]
  },
  {
   "cell_type": "code",
   "execution_count": 17,
   "id": "fad4332f",
   "metadata": {},
   "outputs": [
    {
     "name": "stdout",
     "output_type": "stream",
     "text": [
      "/r/stocks US Election and Market Megathread\n",
      "Stocks go down = Are we due for a correction?\n",
      "\n",
      "Stocks go up = Are we overvalued?\n",
      "\n",
      "The market is always nervous.\n",
      "I've read so many different articles suggesting that markets will rally after we find out the results of the election, regardless of who wins, because the uncertainty goes away. Does anyone else find this difficult to comprehend? If we know for a fact that markets will go up by the end of this week, then what uncertainty is there in buying the index? Why wouldn't a guarantee of equity prices going up this week be already priced in today? They say that there's money on the sidelines waiting until election results come out to dive in - but if the victor of the election is irrelevant, why wait?\n",
      "/r/Stocks Weekend Discussion Saturday - Nov 09, 2024\n",
      "List of possible strangle targets for next week, using earnings as the catalyst for large price moves. If you're interested in an overnight play, make sure that the implied options move is less than the historical average when you enter the trade. Also, skip the suggestion if the strangle legs are too unevenly spaced.\n",
      "\n",
      "There are two important caveats:\n",
      "\n",
      "* The space stocks have experienced significantly bigger moves in the last 1-2 earnings reports as investor hype has ballooned their beta. The average move is not representative of investor sentiment and future moves will probably be larger.\n",
      "* If you're familiar with your platform's *advanced* options chain, examine the distribution of open contracts to see where the majority of bets are placed. With any big earnings move, the price will be magnetically drawn towards the strike price with the highest one-sided concentration of existing contracts (calls minus puts). Oftentimes cluster options will force the price to overshoot the implied move; this is very good for you.\n",
      "\n",
      "|Date|Ticker|Beta|Average Move^(1)|Short Float|\n",
      "|:-|:-|:-|:-|:-|\n",
      "|11/11|GSL|1.62|7.02%|4.36%|\n",
      "|11/11|RDNT|1.75|8.49%|5.61%|\n",
      "|11/12|TALO|1.93|6.74%|9.22%|\n",
      "|11/12|FOUR|1.63|8.67%|14.39%|\n",
      "|11/12|NTRA|1.53|10.07%|3.17%|\n",
      "|11/12|RAIL|2.01|12.82%|1.79%|\n",
      "|11/12|RKT|2.44|7.15%|14.27%|\n",
      "|11/12|SGRY|2.77|6.76%|13.52%|\n",
      "|11/12|SHOP|2.36|18.00%|1.79%|\n",
      "|11/13|DAVE|2.84|26.27%|23.67%|\n",
      "|11/13|RKLB|1.3|5.68%|18.26%|\n",
      "|11/14|HROW|0.76|32.96%|13.21%|\n",
      "|11/14|JJSF|0.63|9.88%|4.43%|\n",
      "|11/14|ONEW|2.58|14.81%|10.30%|\n",
      "|11/15|ASTS|1.63|41.63%|24.64%|\n",
      "\n",
      "^(1) = Average earnings move over the last 3 quarters.\n",
      "What's the general sentiment on the potential of a looming crash, given Musk's comment about a crash sounding \"about right\" if Trump won? He has a lot of pull with Trump, and I wouldn't put it past him to want to cause a crash if he felt his holdings could be made recession resistant via government contracts - thereby creating an opportunity for him to buy other companies on the cheap.\n",
      "Reuters Exclusive: US ordered TSMC to halt shipments to China of chips used in AI applications\n",
      "Hi, you're on r/Stocks, please make sure your post is related to stocks or the stockmarket or it will most likely get removed as being off-topic/political; feel free to edit it now and be more specific.\n",
      "\n",
      "**To everyone commenting:**  Please focus on how this affects the stock market or specific stocks or it will be removed as being off-topic/political.\n",
      "\n",
      "If you're interested in just politics, see our wiki on [\"relevant subreddits\"](https://www.reddit.com/r/stocks/wiki/index) and post to those Reddit communities instead without linking back here, thanks!\n",
      "\n",
      "*I am a bot, and this action was performed automatically. Please [contact the moderators of this subreddit](/message/compose/?to=/r/stocks) if you have any questions or concerns.*\n",
      "Seems like a lot of loss revenue.  I would have to look at the financials.\n",
      "\n",
      "But Intel had like 27% of the revenue based in China, prior to the tall fence small yard strategy.   \n",
      "\n",
      "Now look at Intel.\n",
      "Wendy's Uses Palantir AI Tech To Manage Burger, French Fry Inventories says Return On Investment Is 'Significant'\n",
      "WSB users already work behind Wendy's and love Palantir stock so they'll be all over this\n",
      "I sold for a small profit a few weeks ago after holding for 3 years. It had doubled since and I hate looking at it\n",
      "Future of Energy Stocks \n",
      "Happy Cake Day!\n",
      "\n",
      "I agree with Item 2.\n",
      "\n",
      "Item 4: [Oil companies are less inclined to drill than they used to be](https://www.gilmore.com/big-oil-companies-value-capital-discipline/).  Less regulation may mean wider profit margins due to a reduction of regulatory sludge.\n",
      "\n",
      "I don’t know enough about items 1 or 3 to have an opinion.  GE Vernova (GEV) has performed quite well since the spinoff.\n",
      "I think energy and utility stocks will go up and grow a lot this decade.\n",
      "\n",
      "So oil & gas, solar, wind, nuclear and utilities.\n",
      "\n",
      "So i am buying XLU which capitalizes on all of those.\n",
      "\n",
      "Maybe NLR.\n",
      "\n",
      "And I own NEE, CVX and XOM.\n"
     ]
    }
   ],
   "source": [
    "for post in subreddit_stocks.hot(limit=5):\n",
    "    print(post.title)\n",
    "    submission = reddit.submission(post.id)\n",
    "    # print top 2 comments per title submission\n",
    "    counter = 0\n",
    "    for comment in submission.comments:\n",
    "        print(comment.body)\n",
    "        counter+=1\n",
    "        if counter == 2:\n",
    "            break"
   ]
  },
  {
   "cell_type": "code",
   "execution_count": 20,
   "id": "8bc7bd61",
   "metadata": {},
   "outputs": [],
   "source": [
    "def get_titles_and_comments(subreddit=\"stocks\",limit=6,num_comments=3,skip_first=2):\n",
    "    subreddit = reddit.subreddit(subreddit)\n",
    "    title_and_comments = {}\n",
    "    \n",
    "    for counter,post in enumerate(subreddit.hot(limit=limit)):\n",
    "        \n",
    "        if counter < skip_first:\n",
    "            continue\n",
    "        counter += (1-skip_first)\n",
    "        \n",
    "        title_and_comments[counter] = \"\"\n",
    "        # PRAW\n",
    "        submission = reddit.submission(post.id)\n",
    "        title = post.title\n",
    "        # {0: \"Title: Post Title \\n\\n Comments: \\n\\n\"}\n",
    "        title_and_comments[counter] +='Title: '+title+\"\\n\\n\"\n",
    "        title_and_comments[counter] += \"Comments: \\n\\n\"\n",
    "        \n",
    "        comment_counter = 0\n",
    "        for comment in submission.comments:\n",
    "            if not comment.body == \"[deleted]\":\n",
    "                title_and_comments[counter] += comment.body+\"\\n\"\n",
    "                comment_counter += 1\n",
    "            if comment_counter == num_comments:\n",
    "                break\n",
    "    return title_and_comments"
   ]
  },
  {
   "cell_type": "code",
   "execution_count": 21,
   "id": "8ec6ddfc",
   "metadata": {},
   "outputs": [],
   "source": [
    "titles_and_comments = get_titles_and_comments()"
   ]
  },
  {
   "cell_type": "code",
   "execution_count": 23,
   "id": "c6bcdad8",
   "metadata": {},
   "outputs": [
    {
     "data": {
      "text/plain": [
       "{1: 'Title: Reuters Exclusive: US ordered TSMC to halt shipments to China of chips used in AI applications\\n\\nComments: \\n\\nHi, you\\'re on r/Stocks, please make sure your post is related to stocks or the stockmarket or it will most likely get removed as being off-topic/political; feel free to edit it now and be more specific.\\n\\n**To everyone commenting:**  Please focus on how this affects the stock market or specific stocks or it will be removed as being off-topic/political.\\n\\nIf you\\'re interested in just politics, see our wiki on [\"relevant subreddits\"](https://www.reddit.com/r/stocks/wiki/index) and post to those Reddit communities instead without linking back here, thanks!\\n\\n*I am a bot, and this action was performed automatically. Please [contact the moderators of this subreddit](/message/compose/?to=/r/stocks) if you have any questions or concerns.*\\nSeems like a lot of loss revenue.  I would have to look at the financials.\\n\\nBut Intel had like 27% of the revenue based in China, prior to the tall fence small yard strategy.   \\n\\nNow look at Intel.\\nHow can the US even do this, though? Were the chips produced at US TSMC facilities?\\n\\nOr due to agreements TSMC had made with US?\\n\\nThat is, what exactly is the “lever” that US can pull?\\n',\n",
       " 2: \"Title: Wendy's Uses Palantir AI Tech To Manage Burger, French Fry Inventories says Return On Investment Is 'Significant'\\n\\nComments: \\n\\nWSB users already work behind Wendy's and love Palantir stock so they'll be all over this\\nI sold for a small profit a few weeks ago after holding for 3 years. It had doubled since and I hate looking at it\\nThis just sounds like marketing filler. Inventory management statistics are as old as the first computerization.\\n\",\n",
       " 3: \"Title: Future of Energy Stocks \\n\\nComments: \\n\\nHappy Cake Day!\\n\\nI agree with Item 2.\\n\\nItem 4: [Oil companies are less inclined to drill than they used to be](https://www.gilmore.com/big-oil-companies-value-capital-discipline/).  Less regulation may mean wider profit margins due to a reduction of regulatory sludge.\\n\\nI don’t know enough about items 1 or 3 to have an opinion.  GE Vernova (GEV) has performed quite well since the spinoff.\\nI think energy and utility stocks will go up and grow a lot this decade.\\n\\nSo oil & gas, solar, wind, nuclear and utilities.\\n\\nSo i am buying XLU which capitalizes on all of those.\\n\\nMaybe NLR.\\n\\nAnd I own NEE, CVX and XOM.\\nI appreciate your thoughts but do not agree in the short and medium-term.\\n\\n1) If greater oil supply lowers oil prices, that also makes clean energy projects less economically viable.\\n\\n2) Offshore wind projects have had a lot of unforeseen cost problems and many have been paused this last year. Add to that that President Trump seems to hate offshore wind projects, and I don't see them doing well for a long while. Plus, see #1\\n\\n3) The whole forthcoming tariff mess and it's affect on solar pricing make me nervous for a while. In the long run, you are probably right.\\n\",\n",
       " 4: \"Title: Thoughts on Globalstar (GSAT) post-election\\n\\nComments: \\n\\nWelcome to r/stocks!\\n\\nFor beginner advice, brokerage info, book recommendations, even advanced topics and more, please read our [Wiki here.](https://www.reddit.com/r/stocks/wiki/index)\\n\\nIf you're wondering **why a stock moved** a certain way, check out [Finviz](https://finviz.com/quote.ashx?t=spy) which aggregates the most news for almost every stock, but also see [Reuters](https://www.reuters.com/), and even [Yahoo Finance](https://finance.yahoo.com/).\\n\\nPlease direct all simple questions towards the stickied Daily Discussion and Quarterly Rate My Portfolio threads (sort by Hot, they're at the top).\\n\\nAlso include *some* [due diligence](https://www.investopedia.com/terms/d/duediligence.asp) to this post or it may be removed if it's low effort.\\n\\n*I am a bot, and this action was performed automatically. Please [contact the moderators of this subreddit](/message/compose/?to=/r/stocks) if you have any questions or concerns.*\\nluckily for GSAT they have Apple backing them. i am hopeful that they would fight tooth and nail against any serious SpaceX attacks since Apple seems to have a big interest in GSAT. also don’t forget that the satellites and standard bandwidths aren’t GSATs whole bussiness. they are also banking on the XCOM RAN technology which is supposedly 5 times faster and more secure/ stable than 5G. at the beginning of the year it was discovered that Walmart is testing this technology in their automated fulfillment and logistics centers.\\nThe Globostar purple cobras lose at the end of dodgeball… do not invest.\\n\"}"
      ]
     },
     "execution_count": 23,
     "metadata": {},
     "output_type": "execute_result"
    }
   ],
   "source": [
    "titles_and_comments"
   ]
  },
  {
   "cell_type": "code",
   "execution_count": 24,
   "id": "7333df85",
   "metadata": {},
   "outputs": [],
   "source": [
    "def create_prompt(title_and_comments):\n",
    "    task = \"Return the stock ticker or company name mentioned in the following title and comments and classify the sentiment around the company as positive, negative, or neutral. If no ticker or company is mentioned write 'No company mentioned'\\n\\n\"\n",
    "    return task+title_and_comments"
   ]
  },
  {
   "cell_type": "code",
   "execution_count": 26,
   "id": "9e90b767",
   "metadata": {},
   "outputs": [
    {
     "name": "stdout",
     "output_type": "stream",
     "text": [
      "Return the stock ticker or company name mentioned in the following title and comments and classify the sentiment around the company as positive, negative, or neutral. If no ticker or company is mentioned write 'No company mentioned'\n",
      "\n",
      "Title: Reuters Exclusive: US ordered TSMC to halt shipments to China of chips used in AI applications\n",
      "\n",
      "Comments: \n",
      "\n",
      "Hi, you're on r/Stocks, please make sure your post is related to stocks or the stockmarket or it will most likely get removed as being off-topic/political; feel free to edit it now and be more specific.\n",
      "\n",
      "**To everyone commenting:**  Please focus on how this affects the stock market or specific stocks or it will be removed as being off-topic/political.\n",
      "\n",
      "If you're interested in just politics, see our wiki on [\"relevant subreddits\"](https://www.reddit.com/r/stocks/wiki/index) and post to those Reddit communities instead without linking back here, thanks!\n",
      "\n",
      "*I am a bot, and this action was performed automatically. Please [contact the moderators of this subreddit](/message/compose/?to=/r/stocks) if you have any questions or concerns.*\n",
      "Seems like a lot of loss revenue.  I would have to look at the financials.\n",
      "\n",
      "But Intel had like 27% of the revenue based in China, prior to the tall fence small yard strategy.   \n",
      "\n",
      "Now look at Intel.\n",
      "How can the US even do this, though? Were the chips produced at US TSMC facilities?\n",
      "\n",
      "Or due to agreements TSMC had made with US?\n",
      "\n",
      "That is, what exactly is the “lever” that US can pull?\n",
      "\n"
     ]
    }
   ],
   "source": [
    "print(create_prompt(titles_and_comments[1]))"
   ]
  },
  {
   "cell_type": "code",
   "execution_count": 29,
   "id": "0d0b7725",
   "metadata": {},
   "outputs": [
    {
     "name": "stdout",
     "output_type": "stream",
     "text": [
      "Title: Reuters Exclusive: US ordered TSMC to halt shipments to China of chips used in AI applications\n",
      "\n",
      "Comments: \n",
      "\n",
      "Hi, you're on r/Stocks, please make sure your post is related to stocks or the stockmarket or it will most likely get removed as being off-topic/political; feel free to edit it now and be more specific.\n",
      "\n",
      "**To everyone commenting:**  Please focus on how this affects the stock market or specific stocks or it will be removed as being off-topic/political.\n",
      "\n",
      "If you're interested in just politics, see our wiki on [\"relevant subreddits\"](https://www.reddit.com/r/stocks/wiki/index) and post to those Reddit communities instead without linking back here, thanks!\n",
      "\n",
      "*I am a bot, and this action was performed automatically. Please [contact the moderators of this subreddit](/message/compose/?to=/r/stocks) if you have any questions or concerns.*\n",
      "Seems like a lot of loss revenue.  I would have to look at the financials.\n",
      "\n",
      "But Intel had like 27% of the revenue based in China, prior to the tall fence small yard strategy.   \n",
      "\n",
      "Now look at Intel.\n",
      "How can the US even do this, though? Were the chips produced at US TSMC facilities?\n",
      "\n",
      "Or due to agreements TSMC had made with US?\n",
      "\n",
      "That is, what exactly is the “lever” that US can pull?\n",
      "\n",
      "Sentiment Report from OpenAI: \n",
      "Ticker: TSM (Taiwan Semiconductor Manufacturing Company)\n",
      "\n",
      "Sentiment: Negative\n",
      "-------------------------\n",
      "Title: Wendy's Uses Palantir AI Tech To Manage Burger, French Fry Inventories says Return On Investment Is 'Significant'\n",
      "\n",
      "Comments: \n",
      "\n",
      "WSB users already work behind Wendy's and love Palantir stock so they'll be all over this\n",
      "I sold for a small profit a few weeks ago after holding for 3 years. It had doubled since and I hate looking at it\n",
      "This just sounds like marketing filler. Inventory management statistics are as old as the first computerization.\n",
      "\n",
      "Sentiment Report from OpenAI: \n",
      "Company: Wendy's\n",
      "Sentiment: Positive\n",
      "-------------------------\n",
      "Title: Future of Energy Stocks \n",
      "\n",
      "Comments: \n",
      "\n",
      "Happy Cake Day!\n",
      "\n",
      "I agree with Item 2.\n",
      "\n",
      "Item 4: [Oil companies are less inclined to drill than they used to be](https://www.gilmore.com/big-oil-companies-value-capital-discipline/).  Less regulation may mean wider profit margins due to a reduction of regulatory sludge.\n",
      "\n",
      "I don’t know enough about items 1 or 3 to have an opinion.  GE Vernova (GEV) has performed quite well since the spinoff.\n",
      "I think energy and utility stocks will go up and grow a lot this decade.\n",
      "\n",
      "So oil & gas, solar, wind, nuclear and utilities.\n",
      "\n",
      "So i am buying XLU which capitalizes on all of those.\n",
      "\n",
      "Maybe NLR.\n",
      "\n",
      "And I own NEE, CVX and XOM.\n",
      "I appreciate your thoughts but do not agree in the short and medium-term.\n",
      "\n",
      "1) If greater oil supply lowers oil prices, that also makes clean energy projects less economically viable.\n",
      "\n",
      "2) Offshore wind projects have had a lot of unforeseen cost problems and many have been paused this last year. Add to that that President Trump seems to hate offshore wind projects, and I don't see them doing well for a long while. Plus, see #1\n",
      "\n",
      "3) The whole forthcoming tariff mess and it's affect on solar pricing make me nervous for a while. In the long run, you are probably right.\n",
      "\n",
      "Sentiment Report from OpenAI: \n",
      "Company: GE Vernova (GEV), XLU, NLR, NEE, CVX, XOM\n",
      "Sentiment: Neutral\n",
      "-------------------------\n",
      "Title: Thoughts on Globalstar (GSAT) post-election\n",
      "\n",
      "Comments: \n",
      "\n",
      "Welcome to r/stocks!\n",
      "\n",
      "For beginner advice, brokerage info, book recommendations, even advanced topics and more, please read our [Wiki here.](https://www.reddit.com/r/stocks/wiki/index)\n",
      "\n",
      "If you're wondering **why a stock moved** a certain way, check out [Finviz](https://finviz.com/quote.ashx?t=spy) which aggregates the most news for almost every stock, but also see [Reuters](https://www.reuters.com/), and even [Yahoo Finance](https://finance.yahoo.com/).\n",
      "\n",
      "Please direct all simple questions towards the stickied Daily Discussion and Quarterly Rate My Portfolio threads (sort by Hot, they're at the top).\n",
      "\n",
      "Also include *some* [due diligence](https://www.investopedia.com/terms/d/duediligence.asp) to this post or it may be removed if it's low effort.\n",
      "\n",
      "*I am a bot, and this action was performed automatically. Please [contact the moderators of this subreddit](/message/compose/?to=/r/stocks) if you have any questions or concerns.*\n",
      "luckily for GSAT they have Apple backing them. i am hopeful that they would fight tooth and nail against any serious SpaceX attacks since Apple seems to have a big interest in GSAT. also don’t forget that the satellites and standard bandwidths aren’t GSATs whole bussiness. they are also banking on the XCOM RAN technology which is supposedly 5 times faster and more secure/ stable than 5G. at the beginning of the year it was discovered that Walmart is testing this technology in their automated fulfillment and logistics centers.\n",
      "The Globostar purple cobras lose at the end of dodgeball… do not invest.\n",
      "\n",
      "Sentiment Report from OpenAI: \n",
      "Ticker: GSAT\n",
      "Sentiment: Neutral\n",
      "-------------------------\n"
     ]
    }
   ],
   "source": [
    "for key, title_with_comments in titles_and_comments.items():\n",
    "    \n",
    "    prompt = create_prompt(title_with_comments)\n",
    "    \n",
    "    response = openai.Completion.create(engine='gpt-3.5-turbo-instruct',\n",
    "                                      prompt=prompt,\n",
    "                                      max_tokens=256,\n",
    "                                      temperature=0,\n",
    "                                      top_p=1.0\n",
    "                                      )\n",
    "    print(title_with_comments)\n",
    "    print(f\"Sentiment Report from OpenAI: {response['choices'][0]['text']}\")\n",
    "    print('-------------------------')"
   ]
  },
  {
   "cell_type": "code",
   "execution_count": null,
   "id": "5018c48e",
   "metadata": {},
   "outputs": [],
   "source": []
  }
 ],
 "metadata": {
  "kernelspec": {
   "display_name": "Python 3 (ipykernel)",
   "language": "python",
   "name": "python3"
  },
  "language_info": {
   "codemirror_mode": {
    "name": "ipython",
    "version": 3
   },
   "file_extension": ".py",
   "mimetype": "text/x-python",
   "name": "python",
   "nbconvert_exporter": "python",
   "pygments_lexer": "ipython3",
   "version": "3.9.13"
  }
 },
 "nbformat": 4,
 "nbformat_minor": 5
}
