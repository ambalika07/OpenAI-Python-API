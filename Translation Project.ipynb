{
 "cells": [
  {
   "cell_type": "code",
   "execution_count": 1,
   "id": "ebee7923",
   "metadata": {},
   "outputs": [
    {
     "name": "stdout",
     "output_type": "stream",
     "text": [
      "What country are you intrested in for new?France\n"
     ]
    }
   ],
   "source": [
    "country = input(\"What country are you intrested in for new?\")"
   ]
  },
  {
   "cell_type": "code",
   "execution_count": 2,
   "id": "fc1eae34",
   "metadata": {},
   "outputs": [
    {
     "data": {
      "text/plain": [
       "'France'"
      ]
     },
     "execution_count": 2,
     "metadata": {},
     "output_type": "execute_result"
    }
   ],
   "source": [
    "country"
   ]
  },
  {
   "cell_type": "code",
   "execution_count": 3,
   "id": "8453dd2c",
   "metadata": {},
   "outputs": [],
   "source": [
    "# SPAIN\n",
    "# FRANCE"
   ]
  },
  {
   "cell_type": "code",
   "execution_count": 4,
   "id": "dca1f48d",
   "metadata": {},
   "outputs": [],
   "source": [
    "country_newspapers = {\"Spain\":\"https://elpais.com/\",\n",
    "                     \"France\":'https://www.lemonde.fr/'}"
   ]
  },
  {
   "cell_type": "code",
   "execution_count": 5,
   "id": "416bc3ae",
   "metadata": {},
   "outputs": [
    {
     "data": {
      "text/plain": [
       "'https://www.lemonde.fr/'"
      ]
     },
     "execution_count": 5,
     "metadata": {},
     "output_type": "execute_result"
    }
   ],
   "source": [
    "country_newspapers[country]"
   ]
  },
  {
   "cell_type": "code",
   "execution_count": 7,
   "id": "5aaa53f9",
   "metadata": {},
   "outputs": [],
   "source": [
    "import requests\n",
    "import bs4 #BeautifulSoup #Selenium"
   ]
  },
  {
   "cell_type": "code",
   "execution_count": 13,
   "id": "acc13ec3",
   "metadata": {},
   "outputs": [],
   "source": [
    "url = country_newspapers[country]"
   ]
  },
  {
   "cell_type": "code",
   "execution_count": 14,
   "id": "4bceee14",
   "metadata": {},
   "outputs": [],
   "source": [
    "result = requests.get(url)"
   ]
  },
  {
   "cell_type": "code",
   "execution_count": 22,
   "id": "162d6dcb",
   "metadata": {},
   "outputs": [],
   "source": [
    "tag = 'article__title'"
   ]
  },
  {
   "cell_type": "code",
   "execution_count": 23,
   "id": "6267bbe4",
   "metadata": {},
   "outputs": [],
   "source": [
    "soup = bs4.BeautifulSoup(result.text,'lxml')"
   ]
  },
  {
   "cell_type": "code",
   "execution_count": 27,
   "id": "ce6f3122",
   "metadata": {},
   "outputs": [
    {
     "name": "stdout",
     "output_type": "stream",
     "text": [
      "Donald Trump nomme un magnat de la fracturation hydraulique comme ministre de l’énergie\n",
      "Comment l’inflation, facteur du vote pro-Trump, a affecté les Américains depuis quatre ans\n",
      "Les Etats démocrates en première ligne face à la politique de Donald Trump\n"
     ]
    }
   ],
   "source": [
    "for item in soup.select('.article__title')[:3]:\n",
    "    print(item.getText())"
   ]
  },
  {
   "cell_type": "code",
   "execution_count": 29,
   "id": "133091a2",
   "metadata": {},
   "outputs": [],
   "source": [
    "# COUNTRY: (URL,TAG)\n",
    "\n",
    "country_newspapers = {\"Spain\":(\"https://elpais.com/\",'.c_t'),\n",
    "                     \"France\":('https://www.lemonde.fr/','.article__title-label')}"
   ]
  },
  {
   "cell_type": "code",
   "execution_count": 34,
   "id": "ec4c93cf",
   "metadata": {},
   "outputs": [],
   "source": [
    "def create_prompt():\n",
    "    country = input(\"What country would you like a news summary for? \")\n",
    "    \n",
    "    try:\n",
    "        url,tag = country_newspapers[country]\n",
    "    except:\n",
    "        print(\"Sorry, country not supported\")\n",
    "        return\n",
    "        \n",
    "    result = requests.get(url)\n",
    "    soup = bs4.BeautifulSoup(result.text,'lxml')\n",
    "        \n",
    "    country_headlines = ''\n",
    "    for item in soup.select(tag)[:3]:\n",
    "        country_headlines += item.getText()+'\\n'\n",
    "            \n",
    "    prompt = \"Detect the language of the news headlines below, then translate a summary of the headlines to English in a conversational tone.\\n\"\n",
    "    return prompt + country_headlines"
   ]
  },
  {
   "cell_type": "code",
   "execution_count": 36,
   "id": "df640044",
   "metadata": {},
   "outputs": [
    {
     "name": "stdout",
     "output_type": "stream",
     "text": [
      "What country would you like a news summary for? Spain\n"
     ]
    }
   ],
   "source": [
    "prompt = create_prompt()"
   ]
  },
  {
   "cell_type": "code",
   "execution_count": 37,
   "id": "2a762174",
   "metadata": {},
   "outputs": [
    {
     "name": "stdout",
     "output_type": "stream",
     "text": [
      "Detect the language of the news headlines below, then translate a summary of the headlines to English in a conversational tone.\n",
      "Trump desencadenado: sus fichajes ponen a prueba el sistema\n",
      "De la “narcodictadura” en Venezuela a su “amigo” Milei: Rubio, un halcón sobre América Latina\n",
      "Marco Rubio, el hijo de inmigrantes que ataca con ferocidad a México por el paso de inmigrantes\n",
      "\n"
     ]
    }
   ],
   "source": [
    "print(prompt)"
   ]
  },
  {
   "cell_type": "code",
   "execution_count": 38,
   "id": "c5cc9154",
   "metadata": {},
   "outputs": [],
   "source": [
    "import os\n",
    "import openai"
   ]
  },
  {
   "cell_type": "code",
   "execution_count": 39,
   "id": "6422c3e4",
   "metadata": {},
   "outputs": [],
   "source": [
    "# Hide this code block\n",
    "#openai.api_key = 'Add your key here!'"
   ]
  },
  {
   "cell_type": "code",
   "execution_count": 42,
   "id": "1c65946c",
   "metadata": {},
   "outputs": [],
   "source": [
    "response = openai.Completion.create(\n",
    "            model='gpt-3.5-turbo-instruct',\n",
    "            prompt=prompt,\n",
    "            max_tokens=200,\n",
    "            temperature=0.1,\n",
    "            top_p=1.0\n",
    ")"
   ]
  },
  {
   "cell_type": "code",
   "execution_count": 43,
   "id": "df00c928",
   "metadata": {},
   "outputs": [
    {
     "name": "stdout",
     "output_type": "stream",
     "text": [
      "\n",
      "The language of the news headlines is Spanish.\n",
      "\n",
      "Summary: Trump unleashed: his appointments put the system to the test. From the \"narco-dictatorship\" in Venezuela to his \"friend\" Milei: Rubio, a hawk over Latin America. Marco Rubio, the son of immigrants who fiercely attacks Mexico for the influx of immigrants.\n"
     ]
    }
   ],
   "source": [
    "print(response['choices'][0]['text'])"
   ]
  },
  {
   "cell_type": "code",
   "execution_count": null,
   "id": "8d8ed12e",
   "metadata": {},
   "outputs": [],
   "source": []
  }
 ],
 "metadata": {
  "kernelspec": {
   "display_name": "Python 3 (ipykernel)",
   "language": "python",
   "name": "python3"
  },
  "language_info": {
   "codemirror_mode": {
    "name": "ipython",
    "version": 3
   },
   "file_extension": ".py",
   "mimetype": "text/x-python",
   "name": "python",
   "nbconvert_exporter": "python",
   "pygments_lexer": "ipython3",
   "version": "3.9.13"
  }
 },
 "nbformat": 4,
 "nbformat_minor": 5
}
