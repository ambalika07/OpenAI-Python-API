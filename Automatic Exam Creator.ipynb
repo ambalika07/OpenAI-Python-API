{
 "cells": [
  {
   "cell_type": "code",
   "execution_count": 1,
   "id": "54364db5",
   "metadata": {},
   "outputs": [],
   "source": [
    "import os\n",
    "import openai"
   ]
  },
  {
   "cell_type": "code",
   "execution_count": 2,
   "id": "dd3aedca",
   "metadata": {},
   "outputs": [],
   "source": [
    "# Hide this code block\n",
    "#openai.api_key = 'Add your key here!'"
   ]
  },
  {
   "cell_type": "code",
   "execution_count": 3,
   "id": "b68887a4",
   "metadata": {},
   "outputs": [],
   "source": [
    "def create_test_prompt(topic,num_questions,num_possible_answers):\n",
    "    prompt = f\"Create a multiple choice quiz on the topic of {topic} consisting of {num_questions}. Each question should have \"\\\n",
    "    +f\"{num_possible_answers} options. Also include the correct answer for each question using the starting string \"\\\n",
    "    +f\"Correct Answer:' \"\n",
    "    return prompt"
   ]
  },
  {
   "cell_type": "code",
   "execution_count": 45,
   "id": "18e645c4",
   "metadata": {},
   "outputs": [],
   "source": [
    "response = openai.Completion.create(engine='gpt-3.5-turbo-instruct',\n",
    "                                   prompt=create_test_prompt('US History',4,4),\n",
    "                                   max_tokens=256,\n",
    "                                   temperature=0.7)"
   ]
  },
  {
   "cell_type": "code",
   "execution_count": 46,
   "id": "b6eb9fae",
   "metadata": {},
   "outputs": [
    {
     "data": {
      "text/plain": [
       "'\\n1. Who was the first president of the United States?\\nA. John Adams\\nB. George Washington\\nC. Thomas Jefferson\\nD. Abraham Lincoln\\nCorrect Answer: B. George Washington\\n\\n2. The Declaration of Independence was signed in which year?\\nA. 1776\\nB. 1789\\nC. 1792\\nD. 1803\\nCorrect Answer: A. 1776\\n\\n3. The Louisiana Purchase was made during the presidency of:\\nA. Thomas Jefferson\\nB. John Adams\\nC. James Madison\\nD. George Washington\\nCorrect Answer: A. Thomas Jefferson\\n\\n4. Which war was fought between the Northern and Southern states of the US?\\nA. World War I\\nB. Revolutionary War\\nC. Civil War\\nD. War of 1812\\nCorrect Answer: C. Civil War'"
      ]
     },
     "execution_count": 46,
     "metadata": {},
     "output_type": "execute_result"
    }
   ],
   "source": [
    "response['choices'][0]['text']"
   ]
  },
  {
   "cell_type": "code",
   "execution_count": 47,
   "id": "ee36a525",
   "metadata": {},
   "outputs": [],
   "source": [
    "def create_student_view(test,num_questions):\n",
    "    student_view = {1:''}\n",
    "    question_number = 1\n",
    "    for line in test.split(\"\\n\"):\n",
    "        if not line.startswith(\"Correct Answer:\"):\n",
    "            student_view[question_number] += line+'\\n'\n",
    "        else:\n",
    "                if question_number < num_questions:\n",
    "                    question_number +=1\n",
    "                    student_view[question_number] = ''\n",
    "    return student_view"
   ]
  },
  {
   "cell_type": "code",
   "execution_count": 48,
   "id": "abf9d004",
   "metadata": {},
   "outputs": [],
   "source": [
    "result = create_student_view(response['choices'][0]['text'],4)"
   ]
  },
  {
   "cell_type": "code",
   "execution_count": 49,
   "id": "f1d543eb",
   "metadata": {},
   "outputs": [
    {
     "name": "stdout",
     "output_type": "stream",
     "text": [
      "\n",
      "1. Who was the first president of the United States?\n",
      "A. John Adams\n",
      "B. George Washington\n",
      "C. Thomas Jefferson\n",
      "D. Abraham Lincoln\n",
      "\n",
      "\n",
      "2. The Declaration of Independence was signed in which year?\n",
      "A. 1776\n",
      "B. 1789\n",
      "C. 1792\n",
      "D. 1803\n",
      "\n",
      "\n",
      "3. The Louisiana Purchase was made during the presidency of:\n",
      "A. Thomas Jefferson\n",
      "B. John Adams\n",
      "C. James Madison\n",
      "D. George Washington\n",
      "\n",
      "\n",
      "4. Which war was fought between the Northern and Southern states of the US?\n",
      "A. World War I\n",
      "B. Revolutionary War\n",
      "C. Civil War\n",
      "D. War of 1812\n",
      "\n"
     ]
    }
   ],
   "source": [
    "for key in result:\n",
    "    print(result[key])"
   ]
  },
  {
   "cell_type": "code",
   "execution_count": 50,
   "id": "329a686b",
   "metadata": {},
   "outputs": [],
   "source": [
    "def extract_answer(test,num_questions):\n",
    "    answers = {1:''}\n",
    "    question_number = 1\n",
    "    for line in test.split(\"\\n\"):\n",
    "        if line.startswith(\"Correct Answer:\"):\n",
    "            answers[question_number] += line+'\\n'\n",
    "        \n",
    "            if question_number < num_questions:\n",
    "                    question_number +=1\n",
    "                    answers[question_number] = ''\n",
    "    return answers"
   ]
  },
  {
   "cell_type": "code",
   "execution_count": 51,
   "id": "1c0efe9d",
   "metadata": {},
   "outputs": [
    {
     "data": {
      "text/plain": [
       "{1: 'Correct Answer: B. George Washington\\n',\n",
       " 2: 'Correct Answer: A. 1776\\n',\n",
       " 3: 'Correct Answer: A. Thomas Jefferson\\n',\n",
       " 4: 'Correct Answer: C. Civil War\\n'}"
      ]
     },
     "execution_count": 51,
     "metadata": {},
     "output_type": "execute_result"
    }
   ],
   "source": [
    "extract_answer(response['choices'][0]['text'],4)"
   ]
  },
  {
   "cell_type": "code",
   "execution_count": 52,
   "id": "faab9493",
   "metadata": {},
   "outputs": [],
   "source": [
    "student_view = create_student_view(response['choices'][0]['text'],4)"
   ]
  },
  {
   "cell_type": "code",
   "execution_count": 53,
   "id": "3ce5a6dc",
   "metadata": {},
   "outputs": [],
   "source": [
    "answers = extract_answer(response['choices'][0]['text'],4)"
   ]
  },
  {
   "cell_type": "code",
   "execution_count": 72,
   "id": "eb6fe043",
   "metadata": {},
   "outputs": [],
   "source": [
    "# TAKE THE EXAM\n",
    "def take(student_view):\n",
    "    student_answers= {}\n",
    "    for question,question_view in student_view.items():\n",
    "        print(question_view)\n",
    "        answer = input(\"Enter your answer: \")\n",
    "        student_answers[question] = answer\n",
    "    return student_answers"
   ]
  },
  {
   "cell_type": "code",
   "execution_count": 73,
   "id": "58e85392",
   "metadata": {},
   "outputs": [],
   "source": [
    "#student_view.items()"
   ]
  },
  {
   "cell_type": "code",
   "execution_count": 74,
   "id": "c68edb5e",
   "metadata": {},
   "outputs": [
    {
     "name": "stdout",
     "output_type": "stream",
     "text": [
      "\n",
      "1. Who was the first president of the United States?\n",
      "A. John Adams\n",
      "B. George Washington\n",
      "C. Thomas Jefferson\n",
      "D. Abraham Lincoln\n",
      "\n",
      "Enter your answer: b\n",
      "\n",
      "2. The Declaration of Independence was signed in which year?\n",
      "A. 1776\n",
      "B. 1789\n",
      "C. 1792\n",
      "D. 1803\n",
      "\n",
      "Enter your answer: a\n",
      "\n",
      "3. The Louisiana Purchase was made during the presidency of:\n",
      "A. Thomas Jefferson\n",
      "B. John Adams\n",
      "C. James Madison\n",
      "D. George Washington\n",
      "\n",
      "Enter your answer: d\n",
      "\n",
      "4. Which war was fought between the Northern and Southern states of the US?\n",
      "A. World War I\n",
      "B. Revolutionary War\n",
      "C. Civil War\n",
      "D. War of 1812\n",
      "\n",
      "Enter your answer: d\n"
     ]
    }
   ],
   "source": [
    "student_answers = take(student_view)"
   ]
  },
  {
   "cell_type": "code",
   "execution_count": 75,
   "id": "56424c23",
   "metadata": {},
   "outputs": [
    {
     "data": {
      "text/plain": [
       "{1: 'b', 2: 'a', 3: 'd', 4: 'd'}"
      ]
     },
     "execution_count": 75,
     "metadata": {},
     "output_type": "execute_result"
    }
   ],
   "source": [
    "student_answers"
   ]
  },
  {
   "cell_type": "code",
   "execution_count": 76,
   "id": "e1618093",
   "metadata": {},
   "outputs": [
    {
     "data": {
      "text/plain": [
       "{1: 'Correct Answer: B. George Washington\\n',\n",
       " 2: 'Correct Answer: A. 1776\\n',\n",
       " 3: 'Correct Answer: A. Thomas Jefferson\\n',\n",
       " 4: 'Correct Answer: C. Civil War\\n'}"
      ]
     },
     "execution_count": 76,
     "metadata": {},
     "output_type": "execute_result"
    }
   ],
   "source": [
    "answers"
   ]
  },
  {
   "cell_type": "code",
   "execution_count": 77,
   "id": "e6023db2",
   "metadata": {},
   "outputs": [],
   "source": [
    "def grade(correct_answer_dict,student_answers):\n",
    "    correct_answers = 0\n",
    "    for question,answer in student_answers.items():\n",
    "        if answer.upper() == correct_answer_dict[question][16]:\n",
    "            correct_answers +=1\n",
    "    grade = 100*correct_answers / len(answers)\n",
    "            \n",
    "    if grade < 60:\n",
    "        passed = \"NO PASS\"\n",
    "    else:\n",
    "        passed = \"PASS!\"\n",
    "                \n",
    "    return f\"{correct_answers}/{len(answers)} correct! You got {grade} grade, {passed}\""
   ]
  },
  {
   "cell_type": "code",
   "execution_count": 78,
   "id": "c9a03cae",
   "metadata": {},
   "outputs": [
    {
     "data": {
      "text/plain": [
       "'2/4 correct! You got 50.0 grade, NO PASS'"
      ]
     },
     "execution_count": 78,
     "metadata": {},
     "output_type": "execute_result"
    }
   ],
   "source": [
    "grade(answers, student_answers)"
   ]
  },
  {
   "cell_type": "code",
   "execution_count": null,
   "id": "809c9587",
   "metadata": {},
   "outputs": [],
   "source": []
  }
 ],
 "metadata": {
  "kernelspec": {
   "display_name": "Python 3 (ipykernel)",
   "language": "python",
   "name": "python3"
  },
  "language_info": {
   "codemirror_mode": {
    "name": "ipython",
    "version": 3
   },
   "file_extension": ".py",
   "mimetype": "text/x-python",
   "name": "python",
   "nbconvert_exporter": "python",
   "pygments_lexer": "ipython3",
   "version": "3.9.13"
  }
 },
 "nbformat": 4,
 "nbformat_minor": 5
}
