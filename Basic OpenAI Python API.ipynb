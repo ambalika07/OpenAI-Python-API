{
 "cells": [
  {
   "cell_type": "code",
   "execution_count": 64,
   "id": "812abc2b",
   "metadata": {},
   "outputs": [],
   "source": [
    "import os"
   ]
  },
  {
   "cell_type": "code",
   "execution_count": 87,
   "id": "17ec41e3",
   "metadata": {},
   "outputs": [],
   "source": [
    "from openai import OpenAI"
   ]
  },
  {
   "cell_type": "code",
   "execution_count": 71,
   "id": "d4c1df59",
   "metadata": {},
   "outputs": [],
   "source": [
    "# Hide this code block\n",
    "#client = OpenAI(api_key = \"Add your key here!\")"
   ]
  },
  {
   "cell_type": "code",
   "execution_count": 68,
   "id": "398d783a",
   "metadata": {},
   "outputs": [],
   "source": [
    "api_key = os.getenv('OPENAI_API_KEY')"
   ]
  },
  {
   "cell_type": "code",
   "execution_count": 81,
   "id": "133bb20a",
   "metadata": {},
   "outputs": [],
   "source": [
    "chat_completion = client.completions.create(\n",
    "\n",
    "                model = 'gpt-3.5-turbo-instruct',\n",
    "                prompt = 'Give me two reasons to learn OpenAI API with Python',\n",
    "                max_tokens=300\n",
    ")"
   ]
  },
  {
   "cell_type": "code",
   "execution_count": 83,
   "id": "7404972a",
   "metadata": {},
   "outputs": [
    {
     "data": {
      "text/plain": [
       "Completion(id='cmpl-APF2JGodQZgz0O9DpboZdAMh1nDFk', choices=[CompletionChoice(finish_reason='stop', index=0, logprobs=None, text='\\n\\n1. Gain Access to Cutting-Edge AI Capabilities: The OpenAI API provides developers with access to advanced AI models and algorithms, such as GPT-3, which are currently at the forefront of artificial intelligence research. By learning how to use the API with Python, you can tap into these cutting-edge capabilities and incorporate them into your own projects and applications.\\n\\n2. Increase Career Opportunities: As AI continues to play a major role in various industries and technologies, there is a growing demand for professionals with OpenAI skills. By learning how to use the API with Python, you can make yourself stand out in the job market and open up career opportunities in industries such as data science, natural language processing, and machine learning. It can also make you a valuable asset to companies looking to implement AI solutions into their products or services.')], created=1730579363, model='gpt-3.5-turbo-instruct', object='text_completion', system_fingerprint=None, usage=CompletionUsage(completion_tokens=167, prompt_tokens=11, total_tokens=178, completion_tokens_details=None, prompt_tokens_details=None))"
      ]
     },
     "execution_count": 83,
     "metadata": {},
     "output_type": "execute_result"
    }
   ],
   "source": [
    "chat_completion"
   ]
  },
  {
   "cell_type": "code",
   "execution_count": 86,
   "id": "5e29ad0c",
   "metadata": {},
   "outputs": [
    {
     "name": "stdout",
     "output_type": "stream",
     "text": [
      "\n",
      "\n",
      "1. Gain Access to Cutting-Edge AI Capabilities: The OpenAI API provides developers with access to advanced AI models and algorithms, such as GPT-3, which are currently at the forefront of artificial intelligence research. By learning how to use the API with Python, you can tap into these cutting-edge capabilities and incorporate them into your own projects and applications.\n",
      "\n",
      "2. Increase Career Opportunities: As AI continues to play a major role in various industries and technologies, there is a growing demand for professionals with OpenAI skills. By learning how to use the API with Python, you can make yourself stand out in the job market and open up career opportunities in industries such as data science, natural language processing, and machine learning. It can also make you a valuable asset to companies looking to implement AI solutions into their products or services.\n"
     ]
    }
   ],
   "source": [
    "print(chat_completion.choices[0].text)"
   ]
  },
  {
   "cell_type": "code",
   "execution_count": null,
   "id": "3765f0ab",
   "metadata": {},
   "outputs": [],
   "source": []
  }
 ],
 "metadata": {
  "kernelspec": {
   "display_name": "Python 3 (ipykernel)",
   "language": "python",
   "name": "python3"
  },
  "language_info": {
   "codemirror_mode": {
    "name": "ipython",
    "version": 3
   },
   "file_extension": ".py",
   "mimetype": "text/x-python",
   "name": "python",
   "nbconvert_exporter": "python",
   "pygments_lexer": "ipython3",
   "version": "3.9.13"
  }
 },
 "nbformat": 4,
 "nbformat_minor": 5
}
