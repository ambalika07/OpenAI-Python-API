{
 "cells": [
  {
   "cell_type": "code",
   "execution_count": 1,
   "id": "8c18b70d",
   "metadata": {},
   "outputs": [],
   "source": [
    "import os\n",
    "import openai"
   ]
  },
  {
   "cell_type": "code",
   "execution_count": 2,
   "id": "c8664a44",
   "metadata": {},
   "outputs": [],
   "source": [
    "# Hide this code block\n",
    "#openai.api_key = 'Add your key here!'"
   ]
  },
  {
   "cell_type": "code",
   "execution_count": 3,
   "id": "c32c9738",
   "metadata": {},
   "outputs": [],
   "source": [
    "# Python\n",
    "# Function (OOP)\n",
    "# \"\"\" \"\"\""
   ]
  },
  {
   "cell_type": "code",
   "execution_count": 6,
   "id": "1d922840",
   "metadata": {},
   "outputs": [],
   "source": [
    "def hello(name):\n",
    "    print(f\"Hello {name}\")"
   ]
  },
  {
   "cell_type": "code",
   "execution_count": 7,
   "id": "2869cd4c",
   "metadata": {},
   "outputs": [
    {
     "name": "stdout",
     "output_type": "stream",
     "text": [
      "Hello Ambalika\n"
     ]
    }
   ],
   "source": [
    "hello(\"Ambalika\")"
   ]
  },
  {
   "cell_type": "code",
   "execution_count": 8,
   "id": "4e934f3f",
   "metadata": {},
   "outputs": [],
   "source": [
    "def docstring_prompt(code):\n",
    "    prompt = f\"{code}\\n # A high quality python docstring of the above Python function:\\n \\\"\\\"\\\"\"\n",
    "    return prompt"
   ]
  },
  {
   "cell_type": "code",
   "execution_count": 9,
   "id": "4b092924",
   "metadata": {},
   "outputs": [],
   "source": [
    "import inspect"
   ]
  },
  {
   "cell_type": "code",
   "execution_count": 11,
   "id": "bdf95c88",
   "metadata": {},
   "outputs": [
    {
     "name": "stdout",
     "output_type": "stream",
     "text": [
      "def hello(name):\n",
      "    print(f\"Hello {name}\")\n",
      "\n"
     ]
    }
   ],
   "source": [
    "print(inspect.getsource(hello))"
   ]
  },
  {
   "cell_type": "code",
   "execution_count": 12,
   "id": "6ae4a89f",
   "metadata": {},
   "outputs": [
    {
     "name": "stdout",
     "output_type": "stream",
     "text": [
      "def hello(name):\n",
      "    print(f\"Hello {name}\")\n",
      "\n",
      " # A high quality python docstring of the above Python function:\n",
      " \"\"\"\n"
     ]
    }
   ],
   "source": [
    "print(docstring_prompt(inspect.getsource(hello)))"
   ]
  },
  {
   "cell_type": "code",
   "execution_count": 17,
   "id": "e13a47ba",
   "metadata": {},
   "outputs": [],
   "source": [
    "response = openai.Completion.create(\n",
    "            model = 'gpt-3.5-turbo-instruct',\n",
    "            prompt = docstring_prompt(inspect.getsource(hello)),\n",
    "            temperature = 0,\n",
    "            max_tokens = 100,\n",
    "            top_p = 1.0,\n",
    "            stop=[\"\\\"\\\"\\\"\"]\n",
    ")"
   ]
  },
  {
   "cell_type": "code",
   "execution_count": 18,
   "id": "ea3ed7f9",
   "metadata": {},
   "outputs": [
    {
     "name": "stdout",
     "output_type": "stream",
     "text": [
      "A function that prints a greeting to the given name.\n",
      "\n",
      "    Args:\n",
      "        name (str): The name of the person to greet.\n",
      "\n",
      "    Returns:\n",
      "        None: This function does not return anything.\n",
      "\n"
     ]
    }
   ],
   "source": [
    "print(response['choices'][0]['text'])"
   ]
  },
  {
   "cell_type": "code",
   "execution_count": 19,
   "id": "5a131e8f",
   "metadata": {},
   "outputs": [
    {
     "data": {
      "text/plain": [
       "'def hello(name):\\n    print(f\"Hello {name}\")\\n\\n # A high quality python docstring of the above Python function:\\n \"\"\"'"
      ]
     },
     "execution_count": 19,
     "metadata": {},
     "output_type": "execute_result"
    }
   ],
   "source": [
    "docstring_prompt(inspect.getsource(hello))"
   ]
  },
  {
   "cell_type": "code",
   "execution_count": 21,
   "id": "ab912ae7",
   "metadata": {},
   "outputs": [
    {
     "data": {
      "text/plain": [
       "'A function that prints a greeting to the given name.\\n\\n    Args:\\n        name (str): The name of the person to greet.\\n\\n    Returns:\\n        None: This function does not return anything.\\n'"
      ]
     },
     "execution_count": 21,
     "metadata": {},
     "output_type": "execute_result"
    }
   ],
   "source": [
    "response['choices'][0]['text']"
   ]
  },
  {
   "cell_type": "code",
   "execution_count": 22,
   "id": "41281209",
   "metadata": {},
   "outputs": [],
   "source": [
    "# first line of the function (def myfunc():)\n",
    "    # \"\"\"\n",
    "# DOCSTRING (COMPLETION API)\n",
    "    # \"\"\"  \n",
    "    # REST OF THE FUNCTION"
   ]
  },
  {
   "cell_type": "code",
   "execution_count": 33,
   "id": "e12ffeac",
   "metadata": {},
   "outputs": [],
   "source": [
    "def merge_docstring_and_function(original_function,docstring):\n",
    "    function_string = inspect.getsource(original_function)\n",
    "    split = function_string.split('\\n')\n",
    "    first_part,second_part = split[0],split[1:]\n",
    "    \n",
    "    merged_function = first_part+'\\n   \"\"\"'+docstring+'   \"\"\"'+'\\n'+'\\n'.join(second_part)\n",
    "    \n",
    "    return merged_function"
   ]
  },
  {
   "cell_type": "code",
   "execution_count": 34,
   "id": "657e32c9",
   "metadata": {},
   "outputs": [],
   "source": [
    "# inspect.getsource(hello).split('\\n')"
   ]
  },
  {
   "cell_type": "code",
   "execution_count": 35,
   "id": "6dc387c7",
   "metadata": {},
   "outputs": [],
   "source": [
    "# def hello_v2(name,pet):\n",
    "#     print(f\"Hello {name}\")\n",
    "#     print(f\"feed {pet}\")\n",
    "#     print('all done')"
   ]
  },
  {
   "cell_type": "code",
   "execution_count": 36,
   "id": "5d8732e2",
   "metadata": {},
   "outputs": [],
   "source": [
    "# second_part = inspect.getsource(hello_v2).split('\\n')[1:]"
   ]
  },
  {
   "cell_type": "code",
   "execution_count": 37,
   "id": "a22dc531",
   "metadata": {},
   "outputs": [],
   "source": [
    "# print(\"\\n\".join(second_part))"
   ]
  },
  {
   "cell_type": "code",
   "execution_count": 38,
   "id": "6eaa44e0",
   "metadata": {},
   "outputs": [
    {
     "name": "stdout",
     "output_type": "stream",
     "text": [
      "def hello(name):\n",
      "   \"\"\"A function that prints a greeting to the given name.\n",
      "\n",
      "    Args:\n",
      "        name (str): The name of the person to greet.\n",
      "\n",
      "    Returns:\n",
      "        None: This function does not return anything.\n",
      "   \"\"\"\n",
      "    print(f\"Hello {name}\")\n",
      "\n"
     ]
    }
   ],
   "source": [
    "print(merge_docstring_and_function(hello,response['choices'][0]['text']))"
   ]
  },
  {
   "cell_type": "code",
   "execution_count": 39,
   "id": "c80d0f24",
   "metadata": {},
   "outputs": [],
   "source": [
    "def test_function(test,num_questions):\n",
    "    student_view = {1:''}\n",
    "    question_number = 1\n",
    "    for line in test.split(\"\\n\"):\n",
    "        if not line.startswith(\"Correct Answer:\"):\n",
    "            student_view[question_number] += line+'\\n'\n",
    "        else:\n",
    "                if question_number < num_questions:\n",
    "                    question_number +=1\n",
    "                    student_view[question_number] = ''\n",
    "    return student_view"
   ]
  },
  {
   "cell_type": "code",
   "execution_count": 51,
   "id": "7a11b817",
   "metadata": {},
   "outputs": [
    {
     "name": "stdout",
     "output_type": "stream",
     "text": [
      "def test_function(test,num_questions):\n",
      "   \"\"\"This function takes in two arguments, a test and the number of questions in the test. The test is a string that contains the questions and answers. The function then creates a dictionary called student_view with the first key being 1 and the value being an empty string. The function then creates a variable called question_number and sets it equal to 1. The function then iterates through each line in the test string. If the line does not start with \"Correct Answer:\", the function adds the line   \"\"\"\n",
      "    student_view = {1:''}\n",
      "    question_number = 1\n",
      "    for line in test.split(\"\\n\"):\n",
      "        if not line.startswith(\"Correct Answer:\"):\n",
      "            student_view[question_number] += line+'\\n'\n",
      "        else:\n",
      "                if question_number < num_questions:\n",
      "                    question_number +=1\n",
      "                    student_view[question_number] = ''\n",
      "    return student_view\n",
      "\n"
     ]
    }
   ],
   "source": [
    "response = openai.Completion.create(\n",
    "            model = 'gpt-3.5-turbo-instruct',\n",
    "            prompt = docstring_prompt(inspect.getsource(test_function)),\n",
    "            temperature = 0,\n",
    "            max_tokens = 100,\n",
    "            top_p = 1.0,\n",
    "            stop=[\"\\\"\\\"\\\"\"]\n",
    ")\n",
    "print(merge_docstring_and_function(test_function,response['choices'][0]['text']))"
   ]
  },
  {
   "cell_type": "code",
   "execution_count": null,
   "id": "9aa5d586",
   "metadata": {},
   "outputs": [],
   "source": []
  }
 ],
 "metadata": {
  "kernelspec": {
   "display_name": "Python 3 (ipykernel)",
   "language": "python",
   "name": "python3"
  },
  "language_info": {
   "codemirror_mode": {
    "name": "ipython",
    "version": 3
   },
   "file_extension": ".py",
   "mimetype": "text/x-python",
   "name": "python",
   "nbconvert_exporter": "python",
   "pygments_lexer": "ipython3",
   "version": "3.9.13"
  }
 },
 "nbformat": 4,
 "nbformat_minor": 5
}
