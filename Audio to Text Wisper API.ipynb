{
 "cells": [
  {
   "cell_type": "code",
   "execution_count": 7,
   "id": "4ea8e9e6",
   "metadata": {},
   "outputs": [],
   "source": [
    "import os\n",
    "import openai"
   ]
  },
  {
   "cell_type": "code",
   "execution_count": 8,
   "id": "2a2dd326",
   "metadata": {},
   "outputs": [],
   "source": [
    "# Hide this code block\n",
    "openai.api_key = ''"
   ]
  },
  {
   "cell_type": "code",
   "execution_count": 9,
   "id": "d1174cea",
   "metadata": {},
   "outputs": [],
   "source": [
    "audio_file = open(\"Warren Buffett On Exposing Business Frauds And Deception.mp3\",'rb')"
   ]
  },
  {
   "cell_type": "code",
   "execution_count": 10,
   "id": "b04d9dbb",
   "metadata": {},
   "outputs": [],
   "source": [
    "transcript = openai.Audio.transcribe(\"whisper-1\",audio_file)"
   ]
  },
  {
   "cell_type": "code",
   "execution_count": 13,
   "id": "2ad21c19",
   "metadata": {},
   "outputs": [
    {
     "name": "stdout",
     "output_type": "stream",
     "text": [
      "I get letters all the time, and I hear from people who have been taken advantage of in financial transactions. And, you know, it really is — it's sad. And a lot of it isn't even — it's not fraud or anything. For one thing, I mean, just the charges involved, the frictional costs and the baloney that is presented is tough. Charlie and I have had very good luck in terms of buying businesses and putting our trust in people. It's been just overwhelmingly good. But we filter out a lot of people. And then they say, well, how do you filter them out? I would say — and I think Charlie will agree with this — people give themselves away fairly often. And maybe it does help to have been around as long as we have in seeing the various ways they give themselves away. They — when somebody comes to me with a business — and I probably shouldn't tell this publicly, because they'll probably tailor their approach subsequently — but when they come, just the very things they talk about, what they regard as important and not important, there are a lot of clues that come as to subsequent behavior. And like I say, we've really had a batting average I wouldn't have thought we would have had in the people that we've joined with. But it hasn't been 100 percent. It's been well above 90. And I get asked that, you know, I mean, how do you make those judgments? And I don't know, Charlie, can you articulate the way we do it? Well, partly we're deeply suspicious when the proposition is too good to be true. Warren once introduced me to a gentleman promoter who wanted to inveigle us into an insurance program, and he said, we only write fire insurance on concrete bridges that are covered by water. He says it's like taking candy from babies. We are able to filter out propositions like that. Yeah, anybody that — anybody that implicit in their comments or what they kind of laugh about or all kinds of things in terms of the fact, you know, it's so easy and it ain't that easy, you know, and we get suspicious very quickly. And the truth is, we rule out 90 percent of the times, and we may be wrong about a fair number that we're ruling out. The important thing is whether the ones we're ruling in we're right about. And so we don't mind — we're looking for the obvious cases of people you can trust. I think you really ought to talk about the experience with the fraud guy, Charlie. What? On the fraud claim, you know, the fidelity claim with the guy, you know, you had a very well-known insurance company that you don't have to name names, but, you know, you basically told him just raise the stakes to make the game fair. This was back in the 1960s. Do you remember that? I don't remember. Oh, well, I do. I remember. Well, tell it then. Well, Charlie had this tiny little operation, which he ran his fund, also had a seat on the Pacific Coast Stock Exchange. The firm was called Wheeler Munger. It was called Wheeler Munger at first. Later, it changed itself to Munger Wheeler, and Jack Wheeler said, well, pretty soon it'll be Munger & Company, but that's okay. Jack Wheeler was a very interesting guy, and he had the specialist position in General Motors and a few things. And some employee stole like, I don't know, 12,000 bucks or something like that from the firm. Yeah, I remember. He had the trading tickets. Yeah. Some guy steals some money. Yeah. Yeah. Yeah. Yeah. Yeah. Yeah. Yeah. Yeah. Yeah. Yeah. Yeah. Yeah. Yeah. Yeah. Yeah. Yeah. Yeah. Yeah. Yeah. Yeah. Yeah. Yeah. Yeah. Yeah. Yeah. Yeah. Yeah. Yeah. Yeah. Yeah. Yeah. Yeah. Yeah. Yeah. Yeah. And some guy steals some money. And Charlie's firm, Wheeler Munger, was required to have a fidelity bond and all these things that covered dishonest employees and all of that sort. So this guy is clearly dishonest. He's clearly stolen the money. So Charlie puts in a claim for $12,000 or something like that, whatever the loss was, and sends it to this very big and prestigious insurance company. And of course, the insurance company denies this claim. They say, you know, the guy really wasn't employed, he doesn't exist, you don't have a dog, you know. I mean, the whole thing. And Charlie gets this letter back, and they're not going to pay the claim. And so Charlie writes a letter to this very well-known, big name, person that runs the insurance company. And he said, look it. He said, we have this $12,000 claim. And he said, this guy stole the money. And we thought we had an insurance policy against people stealing, people stole money. And he said, we're in this very interesting position, because you've got a bunch of people on the payroll, and they're going to get their weekly check or monthly check, whatever they do. So they just say, we're not going to pay, and life goes on. Whereas I'm sitting here, and I've got my time. I got to work on this thing, and it isn't worth the $12,000 for me to fool around with this claim against the company, and they'll appeal it, and all these things. So he said, I know that you would be offended by the thought that you might be using this inequality, a bargaining position, to avoid paying up the claim. That never could be your intention. So what I suggest, in order to really live up to your code of behavior, is why don't we make the $12,000 claim, we'll just multiply it by 10, and call it $120,000, either way. And if you lose, you pay me $120,000, if I lose, I'll pay you $120,000, now it's worth my while. And he addresses the letter to the chairman, and says, that's the guy, he gets a $12,000 check by return mail. It's not a bad lesson. We can't identify 100% of the frauds, or 90%, or 80%, but there's certain ones that jump out to you. People give themselves away a lot, too, I mean in poker they talk about tells, and Charlie and I have bought a lot of businesses, and it's very important when we buy those businesses that we assess the individuals that we're buying from with some degree of accuracy, because, you know, they hand us the stock certificate, and we hand them a lot of money, and then we count on them to run the business with as much enthusiasm after they have the money as they did before. And so we are assessing people, and we don't think we can assess everyone accurately, we just have to be right about the ones where we make an affirmative decision, and those decisions have not always been perfect, but they've been pretty good, and I would say they've probably gotten a little bit better even as the years have passed. Similarly, in looking at financial statements, for example, in the insurance field, we've seen some frauds, and you can see things being done with loss reserves occasionally, we saw it back in, I won't name any names, unlike Charlie, we'll call them company A's and B's instead of naming names, but you would see companies that, when they were offering stock to the public, you know, the year or two before that, the reserves would go down very suspiciously, and you know, or even when they were selling them to other insurance companies, if they were buying in stock, they might be building the reserves. But there's a million different ways, and I don't claim I know all the ways, obviously, but I have seen enough situations over the years, and I've seen how promoters act, and you can spot certain people who, you know, are one way or another playing games with the numbers. The proposals we see from the investment world, I've got to tell you about one, because it illustrates, go on, we received a proposition the other day, and I'll disguise the numbers a little bit so nobody can pick it out, but it was a private company, and we'll say it was earning $100 million a year, but the seller of the business and the investment banker suggested that we should look at the earnings as being $110 million a year, because as a private company, they had to pay their top people in cash, which was expensed, but we could pay them in stock options and things like that, which weren't expensed or were explained as not really counting, and therefore, we could report $110 million if we gave away something we didn't want to give away, but essentially, by sort of lying about our accounting, we could add $10 million to the earning, and they wanted us to pay them, because they couldn't do it, and we could do it, and therefore, at this point, they're losing me, of course, totally, but it's just astounding, the accounting games that are played, all the adjustments are why the place should really be, will be earning more than before. We also had one that came in from a private equity firm, and by a mistake, we got the email that was sent to the manager from the email from the private equity firms, owned it to the manager in terms of making projections for it, and they told him to add 15%, because they said Buffett will discount it by 15% or 20%, anyway, so just add 15% to offset his conservatism. You know, it's not an elegant business, as Charlie will tell you.\n"
     ]
    }
   ],
   "source": [
    "#print(transcript['text'])"
   ]
  },
  {
   "cell_type": "code",
   "execution_count": 14,
   "id": "600dd818",
   "metadata": {},
   "outputs": [],
   "source": [
    "response = openai.ChatCompletion.create(\n",
    "            model = 'gpt-3.5-turbo',\n",
    "            messages = [\n",
    "                {'role':'system','content':'You are good at creating bullet point summaries and have knowledge of Warren Buffett'},\n",
    "                {'role':'user','content':f\"Summarize the following:\\n{transcript['text']}\"}\n",
    "            ]\n",
    ")"
   ]
  },
  {
   "cell_type": "code",
   "execution_count": 15,
   "id": "ff92711c",
   "metadata": {},
   "outputs": [
    {
     "name": "stdout",
     "output_type": "stream",
     "text": [
      "- Warren Buffett receives letters from people who have been taken advantage of in financial transactions.\n",
      "- Buffett and his partner, Charlie Munger, have had good luck in buying businesses and putting trust in people.\n",
      "- They filter out people by observing clues in how they present themselves and what they find important.\n",
      "- Buffett discusses an example where they caught fraud in an insurance claim and negotiated a larger payout.\n",
      "- They have bought many businesses and stress the importance of assessing individuals accurately.\n",
      "- Buffett talks about spotting fraudulent practices in financial statements and investment proposals.\n",
      "- They received a proposition where the earnings were inflated by accounting tricks.\n",
      "- There are examples shared where private equity firms manipulated projections in attempts to secure investments.\n",
      "- Buffett emphasizes the need to be cautious in financial dealings and the importance of assessing people accurately.\n"
     ]
    }
   ],
   "source": [
    "print(response['choices'][0]['message']['content'])"
   ]
  },
  {
   "cell_type": "code",
   "execution_count": null,
   "id": "209bd452",
   "metadata": {},
   "outputs": [],
   "source": []
  }
 ],
 "metadata": {
  "kernelspec": {
   "display_name": "Python 3 (ipykernel)",
   "language": "python",
   "name": "python3"
  },
  "language_info": {
   "codemirror_mode": {
    "name": "ipython",
    "version": 3
   },
   "file_extension": ".py",
   "mimetype": "text/x-python",
   "name": "python",
   "nbconvert_exporter": "python",
   "pygments_lexer": "ipython3",
   "version": "3.9.13"
  }
 },
 "nbformat": 4,
 "nbformat_minor": 5
}
