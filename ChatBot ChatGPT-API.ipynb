{
 "cells": [
  {
   "cell_type": "code",
   "execution_count": 3,
   "id": "f8430a14",
   "metadata": {},
   "outputs": [],
   "source": [
    "import os\n",
    "import openai"
   ]
  },
  {
   "cell_type": "code",
   "execution_count": 4,
   "id": "a81aa9c9",
   "metadata": {},
   "outputs": [],
   "source": [
    "# Hide this code block\n",
    "openai.api_key = ''"
   ]
  },
  {
   "cell_type": "code",
   "execution_count": 5,
   "id": "8b441722",
   "metadata": {},
   "outputs": [],
   "source": [
    "response = openai.ChatCompletion.create(\n",
    "                            model='gpt-3.5-turbo',\n",
    "    messages=[\n",
    "        {'role':'system','content':'You are a US History Tutor'},\n",
    "        {'role':'user','content':'Who wasa the first US president?'},\n",
    "        {'role':'assistant','content':'George Washington was the first President of the United States, serving from 1789 to 1797.'},\n",
    "        {'role':'user','content':'What year was he born?'}\n",
    "    ]\n",
    ")"
   ]
  },
  {
   "cell_type": "code",
   "execution_count": 6,
   "id": "8d957225",
   "metadata": {},
   "outputs": [
    {
     "data": {
      "text/plain": [
       "'George Washington was born on February 22, 1732.'"
      ]
     },
     "execution_count": 6,
     "metadata": {},
     "output_type": "execute_result"
    }
   ],
   "source": [
    "response['choices'][0]['message']['content']"
   ]
  },
  {
   "cell_type": "code",
   "execution_count": 7,
   "id": "21a229b5",
   "metadata": {},
   "outputs": [],
   "source": [
    "class CreateBot:\n",
    "    \n",
    "    def __init__(self,system_prompt):\n",
    "        \n",
    "        self.system = system_prompt\n",
    "        self.messages = [{'role':'system','content':system_prompt}]\n",
    "        \n",
    "    def chat(self):\n",
    "        \n",
    "        print('To terminate conversation, type \"END\"')\n",
    "        question = ''\n",
    "        \n",
    "        while question != \"END\":\n",
    "            question = input(\"\")\n",
    "            print('\\n')\n",
    "            # ADD TO THE MESSAGES LIST OF DICTIONARY\n",
    "            self.messages.append({'role':'user','content':question})\n",
    "            # GRAB RESPONSE FROM CHATGPT\n",
    "            response = openai.ChatCompletion.create(\n",
    "                                        model='gpt-3.5-turbo',\n",
    "                                        messages=self.messages)\n",
    "            # GRAB ASSISTANT MESSAGE (CONTENT)\n",
    "            content = response['choices'][0]['message']['content']\n",
    "            print('\\n')\n",
    "            print(content)\n",
    "            print('\\n')\n",
    "            self.messages.append({'role':'assistant','content':content})\n",
    "        #input()"
   ]
  },
  {
   "cell_type": "code",
   "execution_count": 11,
   "id": "6e664f22",
   "metadata": {},
   "outputs": [],
   "source": [
    "history_tutor = CreateBot(system_prompt='You are a US History Tutor')"
   ]
  },
  {
   "cell_type": "code",
   "execution_count": 12,
   "id": "a6819f5c",
   "metadata": {},
   "outputs": [
    {
     "name": "stdout",
     "output_type": "stream",
     "text": [
      "To terminate conversation, type \"END\"\n",
      "Who was the first president of US?\n",
      "\n",
      "\n",
      "\n",
      "\n",
      "The first President of the United States was George Washington. He served two terms from 1789 to 1797.\n",
      "\n",
      "\n",
      "Where did he live?\n",
      "\n",
      "\n",
      "\n",
      "\n",
      "During his presidency, George Washington lived in several locations. He spent his early years at Mount Vernon, his plantation in Virginia. When he became President, he lived in New York City (which was the capital at the time) and later in Philadelphia, which served as the temporary capital before Washington, D.C. was established.\n",
      "\n",
      "\n",
      "How was his trip to Europe?\n",
      "\n",
      "\n",
      "\n",
      "\n",
      "George Washington made a trip to Europe in 1789, before he took office as President. This trip was mainly to visit the seat of government in New York City and to assure the European powers of America's intention to remain neutral in their conflicts. Washington traveled to France and England, where he was received with great respect and honor. His trip was considered a diplomatic success and helped to establish the United States as a legitimate nation in the eyes of European powers.\n",
      "\n",
      "\n",
      "How was his trip to Mars?\n",
      "\n",
      "\n",
      "\n",
      "\n",
      "George Washington never traveled to Mars. The notion of human space travel to Mars is a modern concept that was not possible during Washington's lifetime in the 18th century. Washington primarily traveled within the United States and to Europe during his diplomatic mission as mentioned earlier.\n",
      "\n",
      "\n",
      "END\n",
      "\n",
      "\n",
      "\n",
      "\n",
      "Thank you for using the US History Tutor. If you have any more questions in the future, feel free to ask. Have a great day!\n",
      "\n",
      "\n"
     ]
    }
   ],
   "source": [
    "history_tutor.chat()"
   ]
  },
  {
   "cell_type": "code",
   "execution_count": 13,
   "id": "2684cfd5",
   "metadata": {},
   "outputs": [],
   "source": [
    "full_text = ''\n",
    "for item in history_tutor.messages:\n",
    "    full_text += item['content']"
   ]
  },
  {
   "cell_type": "code",
   "execution_count": 15,
   "id": "db4fae71",
   "metadata": {},
   "outputs": [
    {
     "data": {
      "text/plain": [
       "245"
      ]
     },
     "execution_count": 15,
     "metadata": {},
     "output_type": "execute_result"
    }
   ],
   "source": [
    "len(full_text.split())"
   ]
  },
  {
   "cell_type": "code",
   "execution_count": 16,
   "id": "fcaf061f",
   "metadata": {},
   "outputs": [],
   "source": [
    "def num_tokens_from_string(string,encoding_name):\n",
    "    \"\"\"Return the number of tokens in a text string.\"\"\"\n",
    "    encoding = tiktoken.get_encoding(encoding_name)\n",
    "    num_tokens = len(encoding.encode(string))\n",
    "    return num_tokens"
   ]
  },
  {
   "cell_type": "code",
   "execution_count": 17,
   "id": "fb0607f1",
   "metadata": {},
   "outputs": [
    {
     "data": {
      "text/plain": [
       "292"
      ]
     },
     "execution_count": 17,
     "metadata": {},
     "output_type": "execute_result"
    }
   ],
   "source": [
    "import tiktoken\n",
    "num_tokens_from_string(full_text,'cl100k_base')"
   ]
  },
  {
   "cell_type": "code",
   "execution_count": 19,
   "id": "e849f027",
   "metadata": {},
   "outputs": [
    {
     "data": {
      "text/plain": [
       "{'role': 'user', 'content': 'Who was the first president of US?'}"
      ]
     },
     "execution_count": 19,
     "metadata": {},
     "output_type": "execute_result"
    }
   ],
   "source": [
    "history_tutor.messages.pop(1)"
   ]
  },
  {
   "cell_type": "code",
   "execution_count": 20,
   "id": "59f179d2",
   "metadata": {},
   "outputs": [
    {
     "data": {
      "text/plain": [
       "[{'role': 'system', 'content': 'You are a US History Tutor'},\n",
       " {'role': 'assistant',\n",
       "  'content': 'The first President of the United States was George Washington. He served two terms from 1789 to 1797.'},\n",
       " {'role': 'user', 'content': 'Where did he live?'},\n",
       " {'role': 'assistant',\n",
       "  'content': 'During his presidency, George Washington lived in several locations. He spent his early years at Mount Vernon, his plantation in Virginia. When he became President, he lived in New York City (which was the capital at the time) and later in Philadelphia, which served as the temporary capital before Washington, D.C. was established.'},\n",
       " {'role': 'user', 'content': 'How was his trip to Europe?'},\n",
       " {'role': 'assistant',\n",
       "  'content': \"George Washington made a trip to Europe in 1789, before he took office as President. This trip was mainly to visit the seat of government in New York City and to assure the European powers of America's intention to remain neutral in their conflicts. Washington traveled to France and England, where he was received with great respect and honor. His trip was considered a diplomatic success and helped to establish the United States as a legitimate nation in the eyes of European powers.\"},\n",
       " {'role': 'user', 'content': 'How was his trip to Mars?'},\n",
       " {'role': 'assistant',\n",
       "  'content': \"George Washington never traveled to Mars. The notion of human space travel to Mars is a modern concept that was not possible during Washington's lifetime in the 18th century. Washington primarily traveled within the United States and to Europe during his diplomatic mission as mentioned earlier.\"},\n",
       " {'role': 'user', 'content': 'END'},\n",
       " {'role': 'assistant',\n",
       "  'content': 'Thank you for using the US History Tutor. If you have any more questions in the future, feel free to ask. Have a great day!'}]"
      ]
     },
     "execution_count": 20,
     "metadata": {},
     "output_type": "execute_result"
    }
   ],
   "source": [
    "history_tutor.messages"
   ]
  },
  {
   "cell_type": "code",
   "execution_count": null,
   "id": "c21150b3",
   "metadata": {},
   "outputs": [],
   "source": []
  }
 ],
 "metadata": {
  "kernelspec": {
   "display_name": "Python 3 (ipykernel)",
   "language": "python",
   "name": "python3"
  },
  "language_info": {
   "codemirror_mode": {
    "name": "ipython",
    "version": 3
   },
   "file_extension": ".py",
   "mimetype": "text/x-python",
   "name": "python",
   "nbconvert_exporter": "python",
   "pygments_lexer": "ipython3",
   "version": "3.9.13"
  }
 },
 "nbformat": 4,
 "nbformat_minor": 5
}
